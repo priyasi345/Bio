{
  "nbformat": 4,
  "nbformat_minor": 0,
  "metadata": {
    "colab": {
      "name": "Untitled399.ipynb",
      "provenance": []
    },
    "kernelspec": {
      "name": "python3",
      "display_name": "Python 3"
    }
  },
  "cells": [
    {
      "cell_type": "code",
      "metadata": {
        "id": "Kd0SBgdQ-LKg",
        "colab_type": "code",
        "colab": {
          "base_uri": "https://localhost:8080/",
          "height": 621
        },
        "outputId": "c1d987e7-ba3d-408a-af94-f8f7d286105f"
      },
      "source": [
        "from IPython.display import HTML, Audio\n",
        "from google.colab.output import eval_js\n",
        "from base64 import b64decode\n",
        "import numpy as np\n",
        "import io\n",
        "from PIL import Image\n",
        "\n",
        "VIDEO_HTML = \"\"\"\n",
        "<video autoplay\n",
        " width=%d height=%d style='cursor: pointer;'></video>\n",
        "<script>\n",
        "\n",
        "var video = document.querySelector('video')\n",
        "\n",
        "navigator.mediaDevices.getUserMedia({ video: true })\n",
        "  .then(stream=> video.srcObject = stream)\n",
        "  \n",
        "var data = new Promise(resolve=>{\n",
        "  video.onclick = ()=>{\n",
        "    var canvas = document.createElement('canvas')\n",
        "    var [w,h] =[video.offsetWidth, video.offsetHeight]\n",
        "    canvas.width = w\n",
        "    canvas.height = h\n",
        "    canvas.getContext('2d')\n",
        "          .drawImage(video, 0, 0, w, h)\n",
        "    video.srcObject.getVideoTracks()[0].stop()\n",
        "    video.replaceWith(canvas)\n",
        "    resolve(canvas.toDataURL('image/jpeg', %f))\n",
        "  }\n",
        "})\n",
        "</script>\n",
        "\"\"\"\n",
        "def take_photo(filename='photo.jpg', quality=0.8, size=(800,600)):\n",
        "  display(HTML(VIDEO_HTML % (size[0],size[1],quality)))\n",
        "  data = eval_js(\"data\")\n",
        "  binary = b64decode(data.split(',')[1])\n",
        "  f = io.BytesIO(binary)\n",
        "  return np.asarray(Image.open(f))\n",
        "\n",
        "img = take_photo()\n",
        "im = Image.fromarray(img)\n",
        "im.save(\"test.jpg\")\n",
        "\n"
      ],
      "execution_count": null,
      "outputs": [
        {
          "output_type": "display_data",
          "data": {
            "text/html": [
              "\n",
              "<video autoplay\n",
              " width=800 height=600 style='cursor: pointer;'></video>\n",
              "<script>\n",
              "\n",
              "var video = document.querySelector('video')\n",
              "\n",
              "navigator.mediaDevices.getUserMedia({ video: true })\n",
              "  .then(stream=> video.srcObject = stream)\n",
              "  \n",
              "var data = new Promise(resolve=>{\n",
              "  video.onclick = ()=>{\n",
              "    var canvas = document.createElement('canvas')\n",
              "    var [w,h] =[video.offsetWidth, video.offsetHeight]\n",
              "    canvas.width = w\n",
              "    canvas.height = h\n",
              "    canvas.getContext('2d')\n",
              "          .drawImage(video, 0, 0, w, h)\n",
              "    video.srcObject.getVideoTracks()[0].stop()\n",
              "    video.replaceWith(canvas)\n",
              "    resolve(canvas.toDataURL('image/jpeg', 0.800000))\n",
              "  }\n",
              "})\n",
              "</script>\n"
            ],
            "text/plain": [
              "<IPython.core.display.HTML object>"
            ]
          },
          "metadata": {
            "tags": []
          }
        }
      ]
    }
  ]
}